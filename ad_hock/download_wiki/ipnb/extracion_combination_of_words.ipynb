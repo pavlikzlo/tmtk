{
 "worksheets": [
  {
   "cells": [
    {
     "cell_type": "code",
     "metadata": {},
     "outputs": [],
     "input": [
      ""
     ],
     "language": "python"
    },
    {
     "cell_type": "code",
     "metadata": {},
     "outputs": [],
     "input": [
      "text = u'\\n'.join(\n",
      "    map(\n",
      "        lambda x: x.decode('utf-8'), \n",
      "        open('/Users/ars/Dropbox/Projests/Python/PycharmProjects/tmtk/ad_hock/download_wiki/1.txt').readlines()\n",
      "    )\n",
      ")"
     ],
     "language": "python",
     "prompt_number": 9
    },
    {
     "cell_type": "code",
     "metadata": {},
     "outputs": [
      {
       "output_type": "stream",
       "stream": "stdout",
       "text": [
        "Авария на Саяно-Шушенской ГЭС — промышленная техногенная катастрофа, произошедшая 17 августа 2009 го\n"
       ]
      }
     ],
     "input": [
      "print text[:100]"
     ],
     "language": "python",
     "prompt_number": 12
    },
    {
     "cell_type": "code",
     "metadata": {},
     "outputs": [],
     "input": [
      ""
     ],
     "language": "python"
    }
   ]
  }
 ],
 "cells": [],
 "metadata": {
  "name": "",
  "signature": "sha256:1f707039e2595287d80d41117bf7557a26aeb1fdfac9b3b00f196885dbf51613"
 },
 "nbformat": 3,
 "nbformat_minor": 0
}