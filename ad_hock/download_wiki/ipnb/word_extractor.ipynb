{
 "worksheets": [
  {
   "cells": [
    {
     "cell_type": "code",
     "metadata": {},
     "outputs": [],
     "input": [
      "import nltk\n",
      "from nltk.util import ngrams\n",
      "from collections import Counter"
     ],
     "language": "python",
     "prompt_number": 1
    },
    {
     "cell_type": "code",
     "metadata": {},
     "outputs": [],
     "input": [
      "def pr_list(lis):\n",
      "    print '\\n\\n'.join(lis)"
     ],
     "language": "python",
     "prompt_number": 6
    },
    {
     "cell_type": "code",
     "metadata": {},
     "outputs": [],
     "input": [
      "def simple_filter(lis):\n",
      "    buf = ''\n",
      "    for l in lis:\n",
      "        if l in u'ЙЦУКЕНГШЩЗХЪФЫВАПРОЛДЖЭЯЧСМИТЬБЮйцукенгшщзхъёЁфывапролджэячсмитьбюQWERTYUIOPASDFGHJKLZXCVBNM ':\n",
      "            buf += l\n",
      "    \n",
      "    return buf.split()"
     ],
     "language": "python",
     "prompt_number": 7
    },
    {
     "cell_type": "code",
     "metadata": {},
     "outputs": [
      {
       "ename": "IOError",
       "evalue": "[Errno 2] No such file or directory: '/Users/ars/Dropbox/Projests/Python/PycharmProjects/tmtk/ad_hock/download_wiki/1.txt'",
       "output_type": "pyerr",
       "traceback": [
        "\u001b[0;31m---------------------------------------------------------------------------\u001b[0m\n\u001b[0;31mIOError\u001b[0m                                   Traceback (most recent call last)",
        "\u001b[0;32m<ipython-input-4-b841ffbdda51>\u001b[0m in \u001b[0;36m<module>\u001b[0;34m()\u001b[0m\n\u001b[1;32m      2\u001b[0m     map(\n\u001b[1;32m      3\u001b[0m         \u001b[0;32mlambda\u001b[0m \u001b[0mx\u001b[0m\u001b[0;34m:\u001b[0m \u001b[0mx\u001b[0m\u001b[0;34m.\u001b[0m\u001b[0mdecode\u001b[0m\u001b[0;34m(\u001b[0m\u001b[0;34m'utf-8'\u001b[0m\u001b[0;34m)\u001b[0m\u001b[0;34m,\u001b[0m\u001b[0;34m\u001b[0m\u001b[0m\n\u001b[0;32m----> 4\u001b[0;31m         \u001b[0mopen\u001b[0m\u001b[0;34m(\u001b[0m\u001b[0;34m'/Users/ars/Dropbox/Projests/Python/PycharmProjects/tmtk/ad_hock/download_wiki/1.txt'\u001b[0m\u001b[0;34m)\u001b[0m\u001b[0;34m.\u001b[0m\u001b[0mreadlines\u001b[0m\u001b[0;34m(\u001b[0m\u001b[0;34m)\u001b[0m\u001b[0;34m\u001b[0m\u001b[0m\n\u001b[0m\u001b[1;32m      5\u001b[0m     )\n\u001b[1;32m      6\u001b[0m )\n",
        "\u001b[0;31mIOError\u001b[0m: [Errno 2] No such file or directory: '/Users/ars/Dropbox/Projests/Python/PycharmProjects/tmtk/ad_hock/download_wiki/1.txt'"
       ]
      }
     ],
     "input": [
      "text = u'\\n'.join(\n",
      "    map(\n",
      "        lambda x: x.decode('utf-8'), \n",
      "        open('/Users/ars/Dropbox/Projests/Python/PycharmProjects/tmtk/ad_hock/download_wiki/1.txt').readlines()\n",
      "    )\n",
      ")"
     ],
     "language": "python",
     "prompt_number": 4
    },
    {
     "cell_type": "code",
     "metadata": {},
     "outputs": [
      {
       "ename": "AttributeError",
       "evalue": "'function' object has no attribute 'split'",
       "output_type": "pyerr",
       "traceback": [
        "\u001b[0;31m---------------------------------------------------------------------------\u001b[0m\n\u001b[0;31mAttributeError\u001b[0m                            Traceback (most recent call last)",
        "\u001b[0;32m<ipython-input-5-1315ffbf902b>\u001b[0m in \u001b[0;36m<module>\u001b[0;34m()\u001b[0m\n\u001b[0;32m----> 1\u001b[0;31m \u001b[0msubsample\u001b[0m \u001b[0;34m=\u001b[0m \u001b[0mfilter\u001b[0m\u001b[0;34m(\u001b[0m\u001b[0mNone\u001b[0m\u001b[0;34m,\u001b[0m \u001b[0mtext\u001b[0m\u001b[0;34m.\u001b[0m\u001b[0msplit\u001b[0m\u001b[0;34m(\u001b[0m\u001b[0;34m'\\n\\n'\u001b[0m\u001b[0;34m)\u001b[0m\u001b[0;34m)\u001b[0m\u001b[0;34m\u001b[0m\u001b[0m\n\u001b[0m\u001b[1;32m      2\u001b[0m \u001b[0;32mdel\u001b[0m \u001b[0mtext\u001b[0m\u001b[0;34m\u001b[0m\u001b[0m\n\u001b[1;32m      3\u001b[0m \u001b[0msentance\u001b[0m \u001b[0;34m=\u001b[0m \u001b[0mmap\u001b[0m\u001b[0;34m(\u001b[0m\u001b[0msimple_filter\u001b[0m\u001b[0;34m,\u001b[0m \u001b[0msubsample\u001b[0m\u001b[0;34m)\u001b[0m\u001b[0;34m\u001b[0m\u001b[0m\n\u001b[1;32m      4\u001b[0m \u001b[0;32mdel\u001b[0m \u001b[0msubsample\u001b[0m\u001b[0;34m\u001b[0m\u001b[0m\n",
        "\u001b[0;31mAttributeError\u001b[0m: 'function' object has no attribute 'split'"
       ]
      }
     ],
     "input": [
      "subsample = filter(None, text.split('\\n\\n'))\n",
      "del text\n",
      "sentance = map(simple_filter, subsample)\n",
      "del subsample"
     ],
     "language": "python",
     "prompt_number": 5
    },
    {
     "cell_type": "code",
     "metadata": {},
     "outputs": [],
     "input": [
      "words = []\n",
      "for w in sentance:\n",
      "    words += w\n",
      "del sentance"
     ],
     "language": "python",
     "prompt_number": 136
    },
    {
     "cell_type": "code",
     "metadata": {},
     "outputs": [],
     "input": [
      "bigrams = ngrams(words, 2)"
     ],
     "language": "python",
     "prompt_number": 137
    },
    {
     "cell_type": "code",
     "metadata": {},
     "outputs": [],
     "input": [
      "bigrams = list(bigrams)\n",
      "tally = Counter(bigrams)"
     ],
     "language": "python",
     "prompt_number": 139
    },
    {
     "cell_type": "code",
     "metadata": {},
     "outputs": [],
     "input": [
      "tally = sorted(tally.items(), key = lambda x: x[1])"
     ],
     "language": "python",
     "prompt_number": 142
    },
    {
     "cell_type": "code",
     "metadata": {},
     "outputs": [],
     "input": [
      "def str_o(l):\n",
      "    return u','.join([l[0][0], l[0][1], str(l[1])])\n",
      "\n",
      "f = open('2.txt', 'w')\n",
      "f.write('\\n'.join(map(lambda w: str_o(w).encode('utf-8'), tally)))"
     ],
     "language": "python",
     "prompt_number": 162
    },
    {
     "cell_type": "code",
     "metadata": {},
     "outputs": [],
     "input": [
      ""
     ],
     "language": "python",
     "prompt_number": 154
    },
    {
     "cell_type": "code",
     "metadata": {},
     "outputs": [],
     "input": [
      ""
     ],
     "language": "python"
    }
   ]
  }
 ],
 "cells": [],
 "metadata": {
  "name": "",
  "signature": "sha256:c1edc418a0fbfd3811095176751a5afa6df015c8ce0073e372215216353c611f"
 },
 "nbformat": 3,
 "nbformat_minor": 0
}