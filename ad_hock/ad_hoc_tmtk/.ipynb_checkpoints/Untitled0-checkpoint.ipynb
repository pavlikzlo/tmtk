{
 "metadata": {
  "name": "",
  "signature": "sha256:827bc515eacd4327b785c6898c94d2f4833241a13496bebc71255174b87cbd4b"
 },
 "nbformat": 3,
 "nbformat_minor": 0,
 "worksheets": []
}