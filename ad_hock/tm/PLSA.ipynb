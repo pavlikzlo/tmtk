{
 "metadata": {
  "name": "",
  "signature": "sha256:2b629fb1803b1b7d39c87047e4839f0fd80299f1a03ec6e97359998242da35b4"
 },
 "nbformat": 3,
 "nbformat_minor": 0,
 "worksheets": [
  {
   "cells": [
    {
     "cell_type": "code",
     "collapsed": false,
     "input": [
      "import sys\n",
      "\n",
      "from numpy import *\n",
      "import pandas as pd\n",
      "\n",
      "from itertools import izip_longest"
     ],
     "language": "python",
     "metadata": {},
     "outputs": [],
     "prompt_number": 2
    },
    {
     "cell_type": "code",
     "collapsed": false,
     "input": [
      "def grouper(iterable, n, fillvalue=None):\n",
      "    args = [iter(iterable)] * n\n",
      "    return izip_longest(*args, fillvalue=fillvalue)"
     ],
     "language": "python",
     "metadata": {},
     "outputs": [],
     "prompt_number": 3
    },
    {
     "cell_type": "code",
     "collapsed": false,
     "input": [
      "def read(f_name):\n",
      "    doc_count, wrd_count, str_documents = open(f_name).read().split('\\n', 2)\n",
      "\n",
      "    documents = []\n",
      "    for _, words, counts in grouper(str_documents.split('\\n')[:-1], 3):\n",
      "        words, counts = map(int, words.split()), map(int, counts.split())\n",
      "        documents.append(array(zip(words, counts)))\n",
      "    \n",
      "    return int(doc_count), int(wrd_count), array(documents)"
     ],
     "language": "python",
     "metadata": {},
     "outputs": [],
     "prompt_number": 4
    },
    {
     "cell_type": "code",
     "collapsed": false,
     "input": [
      "_, _, documents_train = read('NIPS-collection/NIPSOld_t.txt')\n",
      "_, _, documents_test = read('NIPS-collection/NIPSOld_c.txt')"
     ],
     "language": "python",
     "metadata": {},
     "outputs": [],
     "prompt_number": 5
    },
    {
     "cell_type": "code",
     "collapsed": false,
     "input": [
      "def norn_mtx(x, y, axis):\n",
      "    mtx = random.random((x, y))\n",
      "    for row in mtx.T if axis == 'x' else mtx: \n",
      "        row /= row.sum()\n",
      "    return mtx"
     ],
     "language": "python",
     "metadata": {},
     "outputs": [],
     "prompt_number": 6
    },
    {
     "cell_type": "code",
     "collapsed": false,
     "input": [
      "def preplexity(F, T, documents):\n",
      "    doc_count, wrd_count = len(T[0]), len(F[0])\n",
      "    lh = 0\n",
      "    for d in xrange(doc_count):\n",
      "        for w, ndw in documents[d]:\n",
      "            lh += ndw * log(dot(F[w, :], T[:, d]))\n",
      "    return e ** (-lh / sum([sum([ndw for _, ndw in documents[d]]) for d in xrange(doc_count)]))"
     ],
     "language": "python",
     "metadata": {},
     "outputs": [],
     "prompt_number": 7
    },
    {
     "cell_type": "code",
     "collapsed": false,
     "input": [
      "def half_random(documents_test):\n",
      "    estimat_doc, control_doc = [], []\n",
      "    for d in documents_test:\n",
      "        est_d, con_d = [], []\n",
      "        for w, wrdc in d:\n",
      "            if wrdc > 1:\n",
      "                est_d.append((w, wrdc/2))\n",
      "                con_d.append((w, wrdc/2))\n",
      "            else:\n",
      "                if randint(0, 100) % 2:\n",
      "                    est_d.append((w, wrdc/2))\n",
      "                else:\n",
      "                    con_d.append((w, wrdc/2))\n",
      "        estimat_doc.append(array(est_d))\n",
      "        control_doc.append(array(con_d))\n",
      "        \n",
      "    return array(estimat_doc), array(control_doc)\n",
      "\n",
      "def estimate_teta(F, documents_test, num_topics=100):\n",
      "    doc_count = len(documents_test)\n",
      "    T = zeros((num_topics, doc_count))\n",
      "    \n",
      "    estimate_doc, control_doc = half_random(documents_test)\n",
      "\n",
      "    for d in range(doc_count):\n",
      "        for w, wrd_count in estimate_doc[d]:\n",
      "            T.T[d] += (F[w] * wrd_count)\n",
      "            \n",
      "    for row in T.T: \n",
      "        row /= row.sum()\n",
      "            \n",
      "    return T, control_doc"
     ],
     "language": "python",
     "metadata": {},
     "outputs": [],
     "prompt_number": 8
    },
    {
     "cell_type": "code",
     "collapsed": false,
     "input": [
      "def plsa_em(documents_train, documents_test=None, num_topics=100, num_itter=10, metric=preplexity):\n",
      "    doc_count, wrd_count = len(documents_train), len(set([wrd for doc in documents_train for wrd, _ in doc]))\n",
      "    F, T = norn_mtx(wrd_count, num_topics, axis='x'), norn_mtx(num_topics, doc_count, axis='y')\n",
      "    \n",
      "    for itter in xrange(num_itter):\n",
      "        Nwt, Ntd, Nt, Nd = zeros((wrd_count, num_topics)), zeros((num_topics, doc_count)), zeros(num_topics), zeros(doc_count)\n",
      "        \n",
      "        for d in xrange(doc_count):\n",
      "            for w, ndw in documents_train[d]:\n",
      "                ndwt = F[w, :] * T[:, d]\n",
      "                ndwt *= ndw * (1.0/ndwt.sum())\n",
      "                \n",
      "                Nwt[w] += ndwt\n",
      "                Ntd[:, d] += ndwt\n",
      "                Nt += ndwt\n",
      "                Nd[d] += ndwt.sum()\n",
      "\n",
      "                \n",
      "        for w in xrange(wrd_count):\n",
      "            F[w] = Nwt[w] / Nt\n",
      "            \n",
      "        for t in range(num_topics):\n",
      "            T[t] = Ntd[t] / Nd\n",
      "            \n",
      "        Ti, docs = estimate_teta(F, documents_test)\n",
      "            \n",
      "        print 'itter %s prepl: train = %.2f, test = %.2f' % (itter, metric(F, T, documents_train), metric(F, Ti, docs))\n",
      "        sys.stdout.flush()\n",
      "        \n",
      "    return F, T"
     ],
     "language": "python",
     "metadata": {},
     "outputs": [],
     "prompt_number": 9
    },
    {
     "cell_type": "code",
     "collapsed": false,
     "input": [
      "%time F, T = plsa_em(documents_train, documents_test, num_itter=30)"
     ],
     "language": "python",
     "metadata": {},
     "outputs": [
      {
       "output_type": "stream",
       "stream": "stdout",
       "text": [
        "itter 0 prepl: train = 2857.80, test = 2261.85\n"
       ]
      }
     ]
    },
    {
     "cell_type": "code",
     "collapsed": false,
     "input": [],
     "language": "python",
     "metadata": {},
     "outputs": []
    }
   ],
   "metadata": {}
  }
 ]
}